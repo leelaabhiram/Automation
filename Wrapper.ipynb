{
 "cells": [
  {
   "cell_type": "code",
   "execution_count": 2,
   "metadata": {
    "collapsed": true
   },
   "outputs": [],
   "source": [
    "#default settings\n",
    "import pyautogui\n",
    "pyautogui.FAILSAFE = True\n",
    "pyautogui.PAUSE = 2\n",
    "import time\n",
    "import ctypes"
   ]
  },
  {
   "cell_type": "code",
   "execution_count": 11,
   "metadata": {
    "collapsed": true
   },
   "outputs": [],
   "source": [
    "class Wrapper(object):\n",
    "    def __init__(self,li):\n",
    "        self.li=li\n",
    "        self.openWindows=None\n",
    "        \n",
    "    def run(self):\n",
    "        for rep in self.li:\n",
    "            if(rep==\"Acquisition Campaigns\"):\n",
    "                self.acquisitionCampaign()\n",
    "        pass\n",
    "    \n",
    "    def refreshin(self):\n",
    "        pass\n",
    "    \n",
    "    def navigateToFile(self,fileName):\n",
    "        time.sleep(10)\n",
    "        pyautogui.typewrite(['p', 'h', 'i', 'l', 'i', 'p'])\n",
    "        pyautogui.typewrite(['enter'])\n",
    "        name=list(fileName)\n",
    "        pyautogui.typewrite(name)\n",
    "        pyautogui.typewrite(['enter'])\n",
    "        pyautogui.typewrite(name)\n",
    "        pyautogui.typewrite(['enter'])\n",
    "        pass\n",
    "    \n",
    "    def openFile(self):\n",
    "        pyautogui.typewrite(\"Enter\")\n",
    "        #SOME FEED BACK LOOP WHICH CONFIRMS IF THE FILE IS READY TO EDIT\n",
    "        pass\n",
    "    \n",
    "    def refreshReport(self):\n",
    "\n",
    "        pyautogui.typewrite([\"Alt\"])\n",
    "        pyautogui.typewrite([\"x\"])\n",
    "        pyautogui.typewrite([\"Y\",\"5\"])\n",
    "        time.sleep(2)\n",
    "        print(\"running\")\n",
    "        pyautogui.press('tab')\n",
    "        pyautogui.press('tab')\n",
    "        pyautogui.press('tab')\n",
    "        pyautogui.press('tab')\n",
    "        pyautogui.press('tab')\n",
    "        pyautogui.typewrite([\"Enter\"])\n",
    "\n",
    "        pyautogui.press('tab')\n",
    "        pyautogui.press('tab')\n",
    "        pyautogui.press('tab')\n",
    "        pyautogui.press('tab')\n",
    "        pyautogui.press('tab')\n",
    "        pyautogui.press('tab')\n",
    "        pyautogui.typewrite([\"Enter\"])\n",
    "        pyautogui.typewrite([\"Enter\"])\n",
    "\n",
    "        status=0\n",
    "        while status==0:\n",
    "            time.sleep(5)\n",
    "            print(self.checkWindows())\n",
    "            if 'Report Builder - Refreshing Report' in self.checkWindows():\n",
    "                status=0\n",
    "            else:\n",
    "                status=1\n",
    "\n",
    "        pyautogui.typewrite([\"Alt\"])\n",
    "        pyautogui.typewrite([\"x\"])\n",
    "        pyautogui.typewrite([\"Y\",\"5\"])\n",
    "        pyautogui.press('tab')\n",
    "        pyautogui.press('tab')\n",
    "        pyautogui.press('tab')\n",
    "        pyautogui.typewrite([\"Enter\"])        \n",
    "\n",
    "        pass\n",
    "        \n",
    "    \n",
    "    def checkWindows(self):\n",
    "        EnumWindows = ctypes.windll.user32.EnumWindows\n",
    "        EnumWindowsProc = ctypes.WINFUNCTYPE(ctypes.c_bool, ctypes.POINTER(ctypes.c_int), ctypes.POINTER(ctypes.c_int))\n",
    "        GetWindowText = ctypes.windll.user32.GetWindowTextW\n",
    "        GetWindowTextLength = ctypes.windll.user32.GetWindowTextLengthW\n",
    "        IsWindowVisible = ctypes.windll.user32.IsWindowVisible\n",
    "\n",
    "        titles = []\n",
    "        def foreach_window(hwnd, lParam):\n",
    "            if IsWindowVisible(hwnd):\n",
    "                length = GetWindowTextLength(hwnd)\n",
    "                buff = ctypes.create_unicode_buffer(length + 1)\n",
    "                GetWindowText(hwnd, buff, length + 1)\n",
    "                titles.append(buff.value)\n",
    "            return True\n",
    "        EnumWindows(EnumWindowsProc(foreach_window), 0)\n",
    "        self.openWindows=titles\n",
    "        return titles\n",
    "        pass\n",
    "    \n",
    "    \n",
    "    def monthly_dashboard_mr(self):\n",
    "        time.sleep(10)\n",
    "        pyautogui.typewrite(['p', 'h', 'i', 'l', 'i', 'p'])\n",
    "        pyautogui.typewrite(['enter'])\n",
    "        name=list(\"monthly dashboard MR.\")\n",
    "        pyautogui.typewrite(name)\n",
    "        pyautogui.typewrite(['enter'])\n",
    "        pyautogui.typewrite(name)\n",
    "        pyautogui.typewrite(['enter'])\n",
    "\n",
    "        time.sleep(2)\n",
    "        print(\"opened\")\n",
    "        pyautogui.typewrite([\"Alt\"])\n",
    "        pyautogui.typewrite([\"x\"])\n",
    "        pyautogui.typewrite([\"Y\",\"5\"])\n",
    "        time.sleep(2)\n",
    "        print(\"running\")\n",
    "        pyautogui.press('tab')\n",
    "        pyautogui.press('tab')\n",
    "        pyautogui.press('tab')\n",
    "        pyautogui.press('tab')\n",
    "        pyautogui.press('tab')\n",
    "        pyautogui.typewrite([\"Enter\"])\n",
    "\n",
    "        pyautogui.press('tab')\n",
    "        pyautogui.press('tab')\n",
    "        pyautogui.press('tab')\n",
    "        pyautogui.press('tab')\n",
    "        pyautogui.press('tab')\n",
    "        pyautogui.press('tab')\n",
    "        pyautogui.typewrite([\"Enter\"])\n",
    "        pyautogui.typewrite([\"Enter\"])\n",
    "\n",
    "        status=0\n",
    "        while status==0:\n",
    "            time.sleep(5)\n",
    "            print(self.checkWindows())\n",
    "            if 'Report Builder - Refreshing Report' in self.checkWindows():\n",
    "                status=0\n",
    "            else:\n",
    "                status=1\n",
    "\n",
    "        pyautogui.typewrite([\"Alt\"])\n",
    "        pyautogui.typewrite([\"x\"])\n",
    "        pyautogui.typewrite([\"Y\",\"5\"])\n",
    "        pyautogui.press('tab')\n",
    "        pyautogui.press('tab')\n",
    "        pyautogui.press('tab')\n",
    "        pyautogui.typewrite([\"Enter\"])\n",
    "        return 0\n",
    "    \n",
    "    def monthly_male_grooming(self):\n",
    "        time.sleep(10)\n",
    "        pyautogui.typewrite(['p', 'h', 'i', 'l', 'i', 'p'])\n",
    "        pyautogui.typewrite(['enter'])\n",
    "        name=list(\"monthly male grooming\")\n",
    "        pyautogui.typewrite(name)\n",
    "        pyautogui.typewrite(['enter'])\n",
    "        pyautogui.typewrite(name)\n",
    "        pyautogui.typewrite(['enter'])\n",
    "\n",
    "        time.sleep(20)\n",
    "        print(\"opened\")\n",
    "        pyautogui.typewrite([\"Alt\"])\n",
    "        pyautogui.typewrite([\"x\"])\n",
    "        pyautogui.typewrite([\"Y\",\"5\"])\n",
    "        time.sleep(2)\n",
    "        print(\"running\")\n",
    "        pyautogui.press('tab')\n",
    "        pyautogui.press('tab')\n",
    "        pyautogui.press('tab')\n",
    "        pyautogui.press('tab')\n",
    "        pyautogui.press('tab')\n",
    "        pyautogui.typewrite([\"Enter\"])\n",
    "\n",
    "        pyautogui.press('tab')\n",
    "        pyautogui.press('tab')\n",
    "        pyautogui.press('tab')\n",
    "        pyautogui.press('tab')\n",
    "        pyautogui.press('tab')\n",
    "        pyautogui.press('tab')\n",
    "        pyautogui.typewrite([\"Enter\"])\n",
    "        pyautogui.typewrite([\"Enter\"])\n",
    "\n",
    "        status=0\n",
    "        while status==0:\n",
    "            time.sleep(5)\n",
    "            print(self.checkWindows())\n",
    "            if 'Report Builder - Refreshing Report' in self.checkWindows():\n",
    "                status=0\n",
    "            else:\n",
    "                status=1\n",
    "\n",
    "        pyautogui.typewrite([\"Alt\"])\n",
    "        pyautogui.typewrite([\"x\"])\n",
    "        pyautogui.typewrite([\"Y\",\"5\"])\n",
    "        pyautogui.press('tab')\n",
    "        pyautogui.press('tab')\n",
    "        pyautogui.press('tab')\n",
    "        pyautogui.typewrite([\"Enter\"])\n",
    "\n",
    "        #running macros\n",
    "\n",
    "        pyautogui.typewrite([\"Alt\"])\n",
    "        pyautogui.typewrite([\"L\"])\n",
    "        pyautogui.typewrite([\"P\",\"M\"])\n",
    "        pyautogui.typewrite([\"Enter\"])\n",
    "        \n",
    "        #save \n",
    "        pyautogui.typewrite([\"Ctrl\",\"s\"])\n",
    "        \n",
    "        #close\n",
    "        pyautogui.typewrite([\"Alt\",\"f4\"])\n",
    "        \n",
    "        \n",
    "        \n",
    "    def acquisitionCampaigns(self):\n",
    "        pass"
   ]
  },
  {
   "cell_type": "code",
   "execution_count": 12,
   "metadata": {
    "collapsed": true
   },
   "outputs": [],
   "source": [
    "x=Wrapper(34)"
   ]
  },
  {
   "cell_type": "code",
   "execution_count": 10,
   "metadata": {
    "scrolled": true
   },
   "outputs": [
    {
     "name": "stdout",
     "output_type": "stream",
     "text": [
      "opened\n",
      "running\n",
      "['', 'Start', '', 'Report Builder - Refreshing Report', 'Report Builder - Request Manager', 'Monthly Dashboard MR. - Excel', 'H&w_Online data_January_2018 - Saved', 'Status Report - Saved', 'Monthly Dashboard MR', 'Monthly Dashboard MR', 'Wrapper - Google Chrome', '', '', '', '', 'Sticky Note', 'Sticky Notes', 'Inbox - abhiram.chilukuri@philips.com - Outlook', 'Segment Manager - Google Chrome', 'localhost - Google Chrome', 'Mail - Abhiram.Chilukuri@fractalanalytics.com - Google Chrome', 'My Received Files', '', 'Skype for Business ', 'Italy BG Dashboard Irons ItalyBack Documentation - Word', 'tasks - Excel', 'standard replies - Notepad', 'Uttrani, Lakshya', 'Anaconda Prompt - jupyter  notebook', '', '', 'Program Manager']\n",
      "['', 'Start', '', 'Report Builder - Refreshing Report', 'Report Builder - Request Manager', 'Monthly Dashboard MR. - Excel', 'H&w_Online data_January_2018 - Saved', 'Status Report - Saved', 'Monthly Dashboard MR', 'Monthly Dashboard MR', 'Wrapper - Google Chrome', '', '', '', '', 'Sticky Note', 'Sticky Notes', 'Inbox - abhiram.chilukuri@philips.com - Outlook', 'Segment Manager - Google Chrome', 'localhost - Google Chrome', 'Mail - Abhiram.Chilukuri@fractalanalytics.com - Google Chrome', 'My Received Files', '', 'Skype for Business ', 'Italy BG Dashboard Irons ItalyBack Documentation - Word', 'tasks - Excel', 'standard replies - Notepad', 'Uttrani, Lakshya', 'Anaconda Prompt - jupyter  notebook', '', '', 'Program Manager']\n",
      "['', 'Start', '', 'Report Builder - Refreshing Report', 'Report Builder - Request Manager', 'Monthly Dashboard MR. - Excel', 'H&w_Online data_January_2018 - Saved', 'Status Report - Saved', 'Monthly Dashboard MR', 'Monthly Dashboard MR', 'Wrapper - Google Chrome', '', '', '', '', 'Sticky Note', 'Sticky Notes', 'Inbox - abhiram.chilukuri@philips.com - Outlook', 'Segment Manager - Google Chrome', 'localhost - Google Chrome', 'Mail - Abhiram.Chilukuri@fractalanalytics.com - Google Chrome', 'My Received Files', '', 'Skype for Business ', 'Italy BG Dashboard Irons ItalyBack Documentation - Word', 'tasks - Excel', 'standard replies - Notepad', 'Uttrani, Lakshya', 'Anaconda Prompt - jupyter  notebook', '', '', 'Program Manager']\n",
      "['', 'Start', '', 'Report Builder - Refreshing Report', 'Report Builder - Request Manager', 'Monthly Dashboard MR. - Excel', 'H&w_Online data_January_2018 - Saved', 'Status Report - Saved', 'Monthly Dashboard MR', 'Monthly Dashboard MR', 'Wrapper - Google Chrome', '', '', '', '', 'Sticky Note', 'Sticky Notes', 'Inbox - abhiram.chilukuri@philips.com - Outlook', 'Segment Manager - Google Chrome', 'localhost - Google Chrome', 'Mail - Abhiram.Chilukuri@fractalanalytics.com - Google Chrome', 'My Received Files', '', 'Skype for Business ', 'Italy BG Dashboard Irons ItalyBack Documentation - Word', 'tasks - Excel', 'standard replies - Notepad', 'Uttrani, Lakshya', 'Anaconda Prompt - jupyter  notebook', '', '', 'Program Manager']\n",
      "['', 'Start', '', 'Report Builder - Refreshing Report', 'Report Builder - Request Manager', 'Monthly Dashboard MR. - Excel', 'H&w_Online data_January_2018 - Saved', 'Status Report - Saved', 'Monthly Dashboard MR', 'Monthly Dashboard MR', 'Wrapper - Google Chrome', '', '', '', '', 'Sticky Note', 'Sticky Notes', 'Inbox - abhiram.chilukuri@philips.com - Outlook', 'Segment Manager - Google Chrome', 'localhost - Google Chrome', 'Mail - Abhiram.Chilukuri@fractalanalytics.com - Google Chrome', 'My Received Files', '', 'Skype for Business ', 'Italy BG Dashboard Irons ItalyBack Documentation - Word', 'tasks - Excel', 'standard replies - Notepad', 'Uttrani, Lakshya', 'Anaconda Prompt - jupyter  notebook', '', '', 'Program Manager']\n",
      "['', 'Start', '', 'Report Builder - Refreshing Report', 'Report Builder - Request Manager', 'Monthly Dashboard MR. - Excel', 'H&w_Online data_January_2018 - Saved', 'Status Report - Saved', 'Monthly Dashboard MR', 'Monthly Dashboard MR', 'Wrapper - Google Chrome', '', '', '', '', 'Sticky Note', 'Sticky Notes', 'Inbox - abhiram.chilukuri@philips.com - Outlook', 'Segment Manager - Google Chrome', 'localhost - Google Chrome', 'Mail - Abhiram.Chilukuri@fractalanalytics.com - Google Chrome', 'My Received Files', '', 'Skype for Business ', 'Italy BG Dashboard Irons ItalyBack Documentation - Word', 'tasks - Excel', 'standard replies - Notepad', 'Uttrani, Lakshya', 'Anaconda Prompt - jupyter  notebook', '', '', 'Program Manager']\n",
      "['', 'Start', '', 'Report Builder - Refreshing Report', 'Report Builder - Request Manager', 'Monthly Dashboard MR. - Excel', 'H&w_Online data_January_2018 - Saved', 'Status Report - Saved', 'Monthly Dashboard MR', 'Monthly Dashboard MR', 'Wrapper - Google Chrome', '', '', '', '', 'Sticky Note', 'Sticky Notes', 'Inbox - abhiram.chilukuri@philips.com - Outlook', 'Segment Manager - Google Chrome', 'localhost - Google Chrome', 'Mail - Abhiram.Chilukuri@fractalanalytics.com - Google Chrome', 'My Received Files', '', 'Skype for Business ', 'Italy BG Dashboard Irons ItalyBack Documentation - Word', 'tasks - Excel', 'standard replies - Notepad', 'Uttrani, Lakshya', 'Anaconda Prompt - jupyter  notebook', '', '', 'Program Manager']\n",
      "['', 'Start', '', 'Report Builder - Refreshing Report', 'Report Builder - Request Manager', 'Monthly Dashboard MR. - Excel', 'H&w_Online data_January_2018 - Saved', 'Status Report - Saved', 'Monthly Dashboard MR', 'Monthly Dashboard MR', 'Wrapper - Google Chrome', '', '', '', '', 'Sticky Note', 'Sticky Notes', 'Inbox - abhiram.chilukuri@philips.com - Outlook', 'Segment Manager - Google Chrome', 'localhost - Google Chrome', 'Mail - Abhiram.Chilukuri@fractalanalytics.com - Google Chrome', 'My Received Files', '', 'Skype for Business ', 'Italy BG Dashboard Irons ItalyBack Documentation - Word', 'tasks - Excel', 'standard replies - Notepad', 'Uttrani, Lakshya', 'Anaconda Prompt - jupyter  notebook', '', '', 'Program Manager']\n",
      "['', 'Start', '', 'Report Builder - Refreshing Report', 'Report Builder - Request Manager', 'Monthly Dashboard MR. - Excel', 'H&w_Online data_January_2018 - Saved', 'Status Report - Saved', 'Monthly Dashboard MR', 'Monthly Dashboard MR', 'Wrapper - Google Chrome', '', '', '', '', 'Sticky Note', 'Sticky Notes', 'Inbox - abhiram.chilukuri@philips.com - Outlook', 'Segment Manager - Google Chrome', 'localhost - Google Chrome', 'Mail - Abhiram.Chilukuri@fractalanalytics.com - Google Chrome', 'My Received Files', '', 'Skype for Business ', 'Italy BG Dashboard Irons ItalyBack Documentation - Word', 'tasks - Excel', 'standard replies - Notepad', 'Uttrani, Lakshya', 'Anaconda Prompt - jupyter  notebook', '', '', 'Program Manager']\n",
      "['', 'Start', '', 'Report Builder - Refreshing Report', 'Report Builder - Request Manager', 'Monthly Dashboard MR. - Excel', 'H&w_Online data_January_2018 - Saved', 'Status Report - Saved', 'Monthly Dashboard MR', 'Monthly Dashboard MR', 'Wrapper - Google Chrome', '', '', '', '', 'Sticky Note', 'Sticky Notes', 'Inbox - abhiram.chilukuri@philips.com - Outlook', 'Segment Manager - Google Chrome', 'localhost - Google Chrome', 'Mail - Abhiram.Chilukuri@fractalanalytics.com - Google Chrome', 'My Received Files', '', 'Skype for Business ', 'Italy BG Dashboard Irons ItalyBack Documentation - Word', 'tasks - Excel', 'standard replies - Notepad', 'Uttrani, Lakshya', 'Anaconda Prompt - jupyter  notebook', '', '', 'Program Manager']\n",
      "['', 'Start', '', 'Report Builder - Refreshing Report', 'Report Builder - Request Manager', 'Monthly Dashboard MR. - Excel', 'H&w_Online data_January_2018 - Saved', 'Status Report - Saved', 'Monthly Dashboard MR', 'Monthly Dashboard MR', 'Wrapper - Google Chrome', '', '', '', '', 'Sticky Note', 'Sticky Notes', 'Inbox - abhiram.chilukuri@philips.com - Outlook', 'Segment Manager - Google Chrome', 'localhost - Google Chrome', 'Mail - Abhiram.Chilukuri@fractalanalytics.com - Google Chrome', 'My Received Files', '', 'Skype for Business ', 'Italy BG Dashboard Irons ItalyBack Documentation - Word', 'tasks - Excel', 'standard replies - Notepad', 'Uttrani, Lakshya', 'Anaconda Prompt - jupyter  notebook', '', '', 'Program Manager']\n",
      "['', 'Start', '', 'Report Builder - Refreshing Report', 'Report Builder - Request Manager', 'Monthly Dashboard MR. - Excel', 'H&w_Online data_January_2018 - Saved', 'Status Report - Saved', 'Monthly Dashboard MR', 'Monthly Dashboard MR', 'Wrapper - Google Chrome', '', '', '', '', 'Sticky Note', 'Sticky Notes', 'Inbox - abhiram.chilukuri@philips.com - Outlook', 'Segment Manager - Google Chrome', 'localhost - Google Chrome', 'Mail - Abhiram.Chilukuri@fractalanalytics.com - Google Chrome', 'My Received Files', '', 'Skype for Business ', 'Italy BG Dashboard Irons ItalyBack Documentation - Word', 'tasks - Excel', 'standard replies - Notepad', 'Uttrani, Lakshya', 'Anaconda Prompt - jupyter  notebook', '', '', 'Program Manager']\n"
     ]
    },
    {
     "name": "stdout",
     "output_type": "stream",
     "text": [
      "['', 'Start', '', 'Report Builder - Refreshing Report', 'Report Builder - Request Manager', 'Monthly Dashboard MR. - Excel', 'H&w_Online data_January_2018 - Saved', 'Status Report - Saved', 'Monthly Dashboard MR', 'Monthly Dashboard MR', 'Wrapper - Google Chrome', '', '', '', '', 'Sticky Note', 'Sticky Notes', 'Inbox - abhiram.chilukuri@philips.com - Outlook', 'Segment Manager - Google Chrome', 'localhost - Google Chrome', 'Mail - Abhiram.Chilukuri@fractalanalytics.com - Google Chrome', 'My Received Files', '', 'Skype for Business ', 'Italy BG Dashboard Irons ItalyBack Documentation - Word', 'tasks - Excel', 'standard replies - Notepad', 'Uttrani, Lakshya', 'Anaconda Prompt - jupyter  notebook', '', '', 'Program Manager']\n",
      "['', 'Start', '', 'Report Builder - Refreshing Report', 'Report Builder - Request Manager', 'Monthly Dashboard MR. - Excel', 'H&w_Online data_January_2018 - Saved', 'Status Report - Saved', 'Monthly Dashboard MR', 'Monthly Dashboard MR', 'Wrapper - Google Chrome', '', '', '', '', 'Sticky Note', 'Sticky Notes', 'Inbox - abhiram.chilukuri@philips.com - Outlook', 'Segment Manager - Google Chrome', 'localhost - Google Chrome', 'Mail - Abhiram.Chilukuri@fractalanalytics.com - Google Chrome', 'My Received Files', '', 'Skype for Business ', 'Italy BG Dashboard Irons ItalyBack Documentation - Word', 'tasks - Excel', 'standard replies - Notepad', 'Uttrani, Lakshya', 'Anaconda Prompt - jupyter  notebook', '', '', 'Program Manager']\n",
      "['', 'Start', '', 'Report Builder - Refreshing Report', 'Report Builder - Request Manager', 'Monthly Dashboard MR. - Excel', 'H&w_Online data_January_2018 - Saved', 'Status Report - Saved', 'Monthly Dashboard MR', 'Monthly Dashboard MR', 'Wrapper - Google Chrome', '', '', '', '', 'Sticky Note', 'Sticky Notes', 'Inbox - abhiram.chilukuri@philips.com - Outlook', 'Segment Manager - Google Chrome', 'localhost - Google Chrome', 'Mail - Abhiram.Chilukuri@fractalanalytics.com - Google Chrome', 'My Received Files', '', 'Skype for Business ', 'Italy BG Dashboard Irons ItalyBack Documentation - Word', 'tasks - Excel', 'standard replies - Notepad', 'Uttrani, Lakshya', 'Anaconda Prompt - jupyter  notebook', '', '', 'Program Manager']\n",
      "['', 'Start', '', 'Report Builder - Refreshing Report', 'Report Builder - Request Manager', 'Monthly Dashboard MR. - Excel', 'H&w_Online data_January_2018 - Saved', 'Status Report - Saved', 'Monthly Dashboard MR', 'Monthly Dashboard MR', 'Wrapper - Google Chrome', '', '', '', '', 'Sticky Note', 'Sticky Notes', 'Inbox - abhiram.chilukuri@philips.com - Outlook', 'Segment Manager - Google Chrome', 'localhost - Google Chrome', 'Mail - Abhiram.Chilukuri@fractalanalytics.com - Google Chrome', 'My Received Files', '', 'Skype for Business ', 'Italy BG Dashboard Irons ItalyBack Documentation - Word', 'tasks - Excel', 'standard replies - Notepad', 'Uttrani, Lakshya', 'Anaconda Prompt - jupyter  notebook', '', '', 'Program Manager']\n",
      "['', 'Start', '', 'Report Builder - Refreshing Report', 'Report Builder - Request Manager', 'Monthly Dashboard MR. - Excel', 'H&w_Online data_January_2018 - Saved', 'Status Report - Saved', 'Monthly Dashboard MR', 'Monthly Dashboard MR', 'Wrapper - Google Chrome', '', '', '', '', 'Sticky Note', 'Sticky Notes', 'Inbox - abhiram.chilukuri@philips.com - Outlook', 'Segment Manager - Google Chrome', 'localhost - Google Chrome', 'Mail - Abhiram.Chilukuri@fractalanalytics.com - Google Chrome', 'My Received Files', '', 'Skype for Business ', 'Italy BG Dashboard Irons ItalyBack Documentation - Word', 'tasks - Excel', 'standard replies - Notepad', 'Uttrani, Lakshya', 'Anaconda Prompt - jupyter  notebook', '', '', 'Program Manager']\n",
      "['', 'Start', '', 'Report Builder - Refreshing Report', 'Report Builder - Request Manager', 'Monthly Dashboard MR. - Excel', 'H&w_Online data_January_2018 - Saved', 'Status Report - Saved', 'Monthly Dashboard MR', 'Monthly Dashboard MR', 'Wrapper - Google Chrome', '', '', '', '', 'Sticky Note', 'Sticky Notes', 'Inbox - abhiram.chilukuri@philips.com - Outlook', 'Segment Manager - Google Chrome', 'localhost - Google Chrome', 'Mail - Abhiram.Chilukuri@fractalanalytics.com - Google Chrome', 'My Received Files', '', 'Skype for Business ', 'Italy BG Dashboard Irons ItalyBack Documentation - Word', 'tasks - Excel', 'standard replies - Notepad', 'Uttrani, Lakshya', 'Anaconda Prompt - jupyter  notebook', '', '', 'Program Manager']\n",
      "['', 'Start', '', 'Report Builder - Refreshing Report', 'Report Builder - Request Manager', 'Monthly Dashboard MR. - Excel', 'H&w_Online data_January_2018 - Saved', 'Status Report - Saved', 'Monthly Dashboard MR', 'Monthly Dashboard MR', 'Wrapper - Google Chrome', '', '', '', '', 'Sticky Note', 'Sticky Notes', 'Inbox - abhiram.chilukuri@philips.com - Outlook', 'Segment Manager - Google Chrome', 'localhost - Google Chrome', 'Mail - Abhiram.Chilukuri@fractalanalytics.com - Google Chrome', 'My Received Files', '', 'Skype for Business ', 'Italy BG Dashboard Irons ItalyBack Documentation - Word', 'tasks - Excel', 'standard replies - Notepad', 'Uttrani, Lakshya', 'Anaconda Prompt - jupyter  notebook', '', '', 'Program Manager']\n",
      "['', 'Start', '', 'Report Builder - Refreshing Report', 'Report Builder - Request Manager', 'Monthly Dashboard MR. - Excel', 'H&w_Online data_January_2018 - Saved', 'Status Report - Saved', 'Monthly Dashboard MR', 'Monthly Dashboard MR', 'Wrapper - Google Chrome', '', '', '', '', 'Sticky Note', 'Sticky Notes', 'Inbox - abhiram.chilukuri@philips.com - Outlook', 'Segment Manager - Google Chrome', 'localhost - Google Chrome', 'Mail - Abhiram.Chilukuri@fractalanalytics.com - Google Chrome', 'My Received Files', '', 'Skype for Business ', 'Italy BG Dashboard Irons ItalyBack Documentation - Word', 'tasks - Excel', 'standard replies - Notepad', 'Uttrani, Lakshya', 'Anaconda Prompt - jupyter  notebook', '', '', 'Program Manager']\n",
      "['', 'Start', '', 'Report Builder - Refreshing Report', 'Report Builder - Request Manager', 'Monthly Dashboard MR. - Excel', 'H&w_Online data_January_2018 - Saved', 'Status Report - Saved', 'Monthly Dashboard MR', 'Monthly Dashboard MR', 'Wrapper - Google Chrome', '', '', '', '', 'Sticky Note', 'Sticky Notes', 'Inbox - abhiram.chilukuri@philips.com - Outlook', 'Segment Manager - Google Chrome', 'localhost - Google Chrome', 'Mail - Abhiram.Chilukuri@fractalanalytics.com - Google Chrome', 'My Received Files', '', 'Skype for Business ', 'Italy BG Dashboard Irons ItalyBack Documentation - Word', 'tasks - Excel', 'standard replies - Notepad', 'Uttrani, Lakshya', 'Anaconda Prompt - jupyter  notebook', '', '', 'Program Manager']\n",
      "['', 'Start', '', 'Report Builder - Refreshing Report', 'Report Builder - Request Manager', 'Monthly Dashboard MR. - Excel', 'H&w_Online data_January_2018 - Saved', 'Status Report - Saved', 'Monthly Dashboard MR', 'Monthly Dashboard MR', 'Wrapper - Google Chrome', '', '', '', '', 'Sticky Note', 'Sticky Notes', 'Inbox - abhiram.chilukuri@philips.com - Outlook', 'Segment Manager - Google Chrome', 'localhost - Google Chrome', 'Mail - Abhiram.Chilukuri@fractalanalytics.com - Google Chrome', 'My Received Files', '', 'Skype for Business ', 'Italy BG Dashboard Irons ItalyBack Documentation - Word', 'tasks - Excel', 'standard replies - Notepad', 'Uttrani, Lakshya', 'Anaconda Prompt - jupyter  notebook', '', '', 'Program Manager']\n",
      "['', 'Start', '', 'Report Builder - Refreshing Report', 'Report Builder - Request Manager', 'Monthly Dashboard MR. - Excel', 'H&w_Online data_January_2018 - Saved', 'Status Report - Saved', 'Monthly Dashboard MR', 'Monthly Dashboard MR', 'Wrapper - Google Chrome', '', '', '', '', 'Sticky Note', 'Sticky Notes', 'Inbox - abhiram.chilukuri@philips.com - Outlook', 'Segment Manager - Google Chrome', 'localhost - Google Chrome', 'Mail - Abhiram.Chilukuri@fractalanalytics.com - Google Chrome', 'My Received Files', '', 'Skype for Business ', 'Italy BG Dashboard Irons ItalyBack Documentation - Word', 'tasks - Excel', 'standard replies - Notepad', 'Uttrani, Lakshya', 'Anaconda Prompt - jupyter  notebook', '', '', 'Program Manager']\n",
      "['', 'Start', '', 'Report Builder - Refreshing Report', 'Report Builder - Request Manager', 'Monthly Dashboard MR. - Excel', 'H&w_Online data_January_2018 - Saved', 'Status Report - Saved', 'Monthly Dashboard MR', 'Monthly Dashboard MR', 'Wrapper - Google Chrome', '', '', '', '', 'Sticky Note', 'Sticky Notes', 'Inbox - abhiram.chilukuri@philips.com - Outlook', 'Segment Manager - Google Chrome', 'localhost - Google Chrome', 'Mail - Abhiram.Chilukuri@fractalanalytics.com - Google Chrome', 'My Received Files', '', 'Skype for Business ', 'Italy BG Dashboard Irons ItalyBack Documentation - Word', 'tasks - Excel', 'standard replies - Notepad', 'Uttrani, Lakshya', 'Anaconda Prompt - jupyter  notebook', '', '', 'Program Manager']\n"
     ]
    },
    {
     "name": "stdout",
     "output_type": "stream",
     "text": [
      "['', 'Start', '', 'Report Builder - Refreshing Report', 'Report Builder - Request Manager', 'Monthly Dashboard MR. - Excel', 'H&w_Online data_January_2018 - Saved', 'Status Report - Saved', 'Monthly Dashboard MR', 'Monthly Dashboard MR', 'Wrapper - Google Chrome', '', '', '', '', 'Sticky Note', 'Sticky Notes', 'Inbox - abhiram.chilukuri@philips.com - Outlook', 'Segment Manager - Google Chrome', 'localhost - Google Chrome', 'Mail - Abhiram.Chilukuri@fractalanalytics.com - Google Chrome', 'My Received Files', '', 'Skype for Business ', 'Italy BG Dashboard Irons ItalyBack Documentation - Word', 'tasks - Excel', 'standard replies - Notepad', 'Uttrani, Lakshya', 'Anaconda Prompt - jupyter  notebook', '', '', 'Program Manager']\n",
      "['', 'Start', '', 'Report Builder - Refreshing Report', 'Report Builder - Request Manager', 'Monthly Dashboard MR. - Excel', 'H&w_Online data_January_2018 - Saved', 'Status Report - Saved', 'Monthly Dashboard MR', 'Monthly Dashboard MR', 'Wrapper - Google Chrome', '', '', '', '', 'Sticky Note', 'Sticky Notes', 'Inbox - abhiram.chilukuri@philips.com - Outlook', 'Segment Manager - Google Chrome', 'localhost - Google Chrome', 'Mail - Abhiram.Chilukuri@fractalanalytics.com - Google Chrome', 'My Received Files', '', 'Skype for Business ', 'Italy BG Dashboard Irons ItalyBack Documentation - Word', 'tasks - Excel', 'standard replies - Notepad', 'Uttrani, Lakshya', 'Anaconda Prompt - jupyter  notebook', '', '', 'Program Manager']\n",
      "['', 'Start', '', 'Report Builder - Refreshing Report', 'Report Builder - Request Manager', 'Monthly Dashboard MR. - Excel', 'H&w_Online data_January_2018 - Saved', 'Status Report - Saved', 'Monthly Dashboard MR', 'Monthly Dashboard MR', 'Wrapper - Google Chrome', '', '', '', '', 'Sticky Note', 'Sticky Notes', 'Inbox - abhiram.chilukuri@philips.com - Outlook', 'Segment Manager - Google Chrome', 'localhost - Google Chrome', 'Mail - Abhiram.Chilukuri@fractalanalytics.com - Google Chrome', 'My Received Files', '', 'Skype for Business ', 'Italy BG Dashboard Irons ItalyBack Documentation - Word', 'tasks - Excel', 'standard replies - Notepad', 'Uttrani, Lakshya', 'Anaconda Prompt - jupyter  notebook', '', '', 'Program Manager']\n",
      "['', 'Start', '', 'Report Builder - Request Manager', 'Monthly Dashboard MR. - Excel', 'H&w_Online data_January_2018 - Saved', 'Status Report - Saved', 'Monthly Dashboard MR', 'Monthly Dashboard MR', 'Wrapper - Google Chrome', '', '', '', '', 'Sticky Note', 'Sticky Notes', 'Inbox - abhiram.chilukuri@philips.com - Outlook', 'Segment Manager - Google Chrome', 'localhost - Google Chrome', 'Mail - Abhiram.Chilukuri@fractalanalytics.com - Google Chrome', 'My Received Files', '', 'Skype for Business ', 'Italy BG Dashboard Irons ItalyBack Documentation - Word', 'tasks - Excel', 'standard replies - Notepad', 'Uttrani, Lakshya', 'Anaconda Prompt - jupyter  notebook', '', '', 'Program Manager']\n"
     ]
    },
    {
     "data": {
      "text/plain": [
       "0"
      ]
     },
     "execution_count": 10,
     "metadata": {},
     "output_type": "execute_result"
    }
   ],
   "source": [
    "x.monthly_dashboard_mr()"
   ]
  },
  {
   "cell_type": "code",
   "execution_count": 26,
   "metadata": {
    "collapsed": true
   },
   "outputs": [],
   "source": [
    "onthly dashboard MR.\n",
    "x=Wrapper(23)monthly dashboard MR.\n"
   ]
  },
  {
   "cell_type": "code",
   "execution_count": 15,
   "metadata": {},
   "outputs": [
    {
     "name": "stdout",
     "output_type": "stream",
     "text": [
      "opened\n",
      "running\n",
      "['Start', '', '', 'Report Builder - Refreshing Report', 'Report Builder - Request Manager', 'Monthly Male Grooming Experience Platform Dashboard - Excel', 'Monthly Dashboard - MyPhilips - Excel', 'Monthly Male Grooming Experience Platform', 'Wrapper - Google Chrome', 'Reports - Google Chrome', 'Tickets > Manage - Google Chrome', 'Monthly Male Grooming Experience Platform Dashboard Documentation - Word', 'Ad Hoc Analysis - H&W Online Sales Data', 'Wrapper - Google Chrome', 'Sticky Notes', 'Skype for Business ', 'Anaconda Prompt - jupyter  notebook', 'Gupta, Ayush', '', '', 'Program Manager']\n",
      "['Start', '', '', 'Report Builder - Refreshing Report', 'Report Builder - Request Manager', 'Monthly Male Grooming Experience Platform Dashboard - Excel', 'Monthly Dashboard - MyPhilips - Excel', 'Monthly Male Grooming Experience Platform', 'Wrapper - Google Chrome', 'Reports - Google Chrome', 'Tickets > Manage - Google Chrome', 'Monthly Male Grooming Experience Platform Dashboard Documentation - Word', 'Ad Hoc Analysis - H&W Online Sales Data', 'Wrapper - Google Chrome', 'Sticky Notes', 'Skype for Business ', 'Anaconda Prompt - jupyter  notebook', 'Gupta, Ayush', '', '', 'Program Manager']\n",
      "['Start', '', '', 'Report Builder - Refreshing Report', 'Report Builder - Request Manager', 'Monthly Male Grooming Experience Platform Dashboard - Excel', 'Monthly Dashboard - MyPhilips - Excel', 'Monthly Male Grooming Experience Platform', 'Wrapper - Google Chrome', 'Reports - Google Chrome', 'Tickets > Manage - Google Chrome', 'Monthly Male Grooming Experience Platform Dashboard Documentation - Word', 'Ad Hoc Analysis - H&W Online Sales Data', 'Wrapper - Google Chrome', 'Sticky Notes', 'Skype for Business ', 'Anaconda Prompt - jupyter  notebook', 'Gupta, Ayush', '', '', 'Program Manager']\n",
      "['Start', '', '', 'Report Builder - Refreshing Report', 'Report Builder - Request Manager', 'Monthly Male Grooming Experience Platform Dashboard - Excel', 'Monthly Dashboard - MyPhilips - Excel', 'Monthly Male Grooming Experience Platform', 'Wrapper - Google Chrome', 'Reports - Google Chrome', 'Tickets > Manage - Google Chrome', 'Monthly Male Grooming Experience Platform Dashboard Documentation - Word', 'Ad Hoc Analysis - H&W Online Sales Data', 'Wrapper - Google Chrome', 'Sticky Notes', 'Skype for Business ', 'Anaconda Prompt - jupyter  notebook', 'Gupta, Ayush', '', '', 'Program Manager']\n",
      "['Start', '', '', 'Report Builder - Refreshing Report', 'Report Builder - Request Manager', 'Monthly Male Grooming Experience Platform Dashboard - Excel', 'Monthly Dashboard - MyPhilips - Excel', 'Monthly Male Grooming Experience Platform', 'Wrapper - Google Chrome', 'Reports - Google Chrome', 'Tickets > Manage - Google Chrome', 'Monthly Male Grooming Experience Platform Dashboard Documentation - Word', 'Ad Hoc Analysis - H&W Online Sales Data', 'Wrapper - Google Chrome', 'Sticky Notes', 'Skype for Business ', 'Anaconda Prompt - jupyter  notebook', 'Gupta, Ayush', '', '', 'Program Manager']\n",
      "['Start', '', '', 'Report Builder - Refreshing Report', 'Report Builder - Request Manager', 'Monthly Male Grooming Experience Platform Dashboard - Excel', 'Monthly Dashboard - MyPhilips - Excel', 'Monthly Male Grooming Experience Platform', 'Wrapper - Google Chrome', 'Reports - Google Chrome', 'Tickets > Manage - Google Chrome', 'Monthly Male Grooming Experience Platform Dashboard Documentation - Word', 'Ad Hoc Analysis - H&W Online Sales Data', 'Wrapper - Google Chrome', 'Sticky Notes', 'Skype for Business ', 'Anaconda Prompt - jupyter  notebook', 'Gupta, Ayush', '', '', 'Program Manager']\n",
      "['Start', '', '', 'Report Builder - Refreshing Report', 'Report Builder - Request Manager', 'Monthly Male Grooming Experience Platform Dashboard - Excel', 'Monthly Dashboard - MyPhilips - Excel', 'Monthly Male Grooming Experience Platform', 'Wrapper - Google Chrome', 'Reports - Google Chrome', 'Tickets > Manage - Google Chrome', 'Monthly Male Grooming Experience Platform Dashboard Documentation - Word', 'Ad Hoc Analysis - H&W Online Sales Data', 'Wrapper - Google Chrome', 'Sticky Notes', 'Skype for Business ', 'Anaconda Prompt - jupyter  notebook', 'Gupta, Ayush', '', '', 'Program Manager']\n",
      "['Start', '', '', 'Report Builder - Refreshing Report', 'Report Builder - Request Manager', 'Monthly Male Grooming Experience Platform Dashboard - Excel', 'Monthly Dashboard - MyPhilips - Excel', 'Monthly Male Grooming Experience Platform', 'Wrapper - Google Chrome', 'Reports - Google Chrome', 'Tickets > Manage - Google Chrome', 'Monthly Male Grooming Experience Platform Dashboard Documentation - Word', 'Ad Hoc Analysis - H&W Online Sales Data', 'Wrapper - Google Chrome', 'Sticky Notes', 'Skype for Business ', 'Anaconda Prompt - jupyter  notebook', 'Gupta, Ayush', '', '', 'Program Manager']\n",
      "['Start', '', '', 'Report Builder - Refreshing Report', 'Report Builder - Request Manager', 'Monthly Male Grooming Experience Platform Dashboard - Excel', 'Monthly Dashboard - MyPhilips - Excel', 'Monthly Male Grooming Experience Platform', 'Wrapper - Google Chrome', 'Reports - Google Chrome', 'Tickets > Manage - Google Chrome', 'Monthly Male Grooming Experience Platform Dashboard Documentation - Word', 'Ad Hoc Analysis - H&W Online Sales Data', 'Wrapper - Google Chrome', 'Sticky Notes', 'Skype for Business ', 'Anaconda Prompt - jupyter  notebook', 'Gupta, Ayush', '', '', 'Program Manager']\n",
      "['Start', '', '', 'Report Builder - Refreshing Report', 'Report Builder - Request Manager', 'Monthly Male Grooming Experience Platform Dashboard - Excel', 'Monthly Dashboard - MyPhilips - Excel', 'Monthly Male Grooming Experience Platform', 'Wrapper - Google Chrome', 'Reports - Google Chrome', 'Tickets > Manage - Google Chrome', 'Monthly Male Grooming Experience Platform Dashboard Documentation - Word', 'Ad Hoc Analysis - H&W Online Sales Data', 'Wrapper - Google Chrome', 'Sticky Notes', 'Skype for Business ', 'Anaconda Prompt - jupyter  notebook', 'Gupta, Ayush', '', '', 'Program Manager']\n",
      "['Start', '', '', 'Report Builder - Refreshing Report', 'Report Builder - Request Manager', 'Monthly Male Grooming Experience Platform Dashboard - Excel', 'Monthly Dashboard - MyPhilips - Excel', 'Monthly Male Grooming Experience Platform', 'Wrapper - Google Chrome', 'Reports - Google Chrome', 'Tickets > Manage - Google Chrome', 'Monthly Male Grooming Experience Platform Dashboard Documentation - Word', 'Ad Hoc Analysis - H&W Online Sales Data', 'Wrapper - Google Chrome', 'Sticky Notes', 'Skype for Business ', 'Anaconda Prompt - jupyter  notebook', 'Gupta, Ayush', '', '', 'Program Manager']\n",
      "['Start', '', '', 'Report Builder - Refreshing Report', 'Report Builder - Request Manager', 'Monthly Male Grooming Experience Platform Dashboard - Excel', 'Monthly Dashboard - MyPhilips - Excel', 'Monthly Male Grooming Experience Platform', 'Wrapper - Google Chrome', 'Reports - Google Chrome', 'Tickets > Manage - Google Chrome', 'Monthly Male Grooming Experience Platform Dashboard Documentation - Word', 'Ad Hoc Analysis - H&W Online Sales Data', 'Wrapper - Google Chrome', 'Sticky Notes', 'Skype for Business ', 'Anaconda Prompt - jupyter  notebook', 'Gupta, Ayush', '', '', 'Program Manager']\n",
      "['Start', '', '', 'Report Builder - Refreshing Report', 'Report Builder - Request Manager', 'Monthly Male Grooming Experience Platform Dashboard - Excel', 'Monthly Dashboard - MyPhilips - Excel', 'Monthly Male Grooming Experience Platform', 'Wrapper - Google Chrome', 'Reports - Google Chrome', 'Tickets > Manage - Google Chrome', 'Monthly Male Grooming Experience Platform Dashboard Documentation - Word', 'Ad Hoc Analysis - H&W Online Sales Data', 'Wrapper - Google Chrome', 'Sticky Notes', 'Skype for Business ', 'Anaconda Prompt - jupyter  notebook', 'Gupta, Ayush', '', '', 'Program Manager']\n",
      "['Start', '', '', 'Report Builder - Refreshing Report', 'Report Builder - Request Manager', 'Monthly Male Grooming Experience Platform Dashboard - Excel', 'Monthly Dashboard - MyPhilips - Excel', 'Monthly Male Grooming Experience Platform', 'Wrapper - Google Chrome', 'Reports - Google Chrome', 'Tickets > Manage - Google Chrome', 'Monthly Male Grooming Experience Platform Dashboard Documentation - Word', 'Ad Hoc Analysis - H&W Online Sales Data', 'Wrapper - Google Chrome', 'Sticky Notes', 'Skype for Business ', 'Anaconda Prompt - jupyter  notebook', 'Gupta, Ayush', '', '', 'Program Manager']\n"
     ]
    },
    {
     "name": "stdout",
     "output_type": "stream",
     "text": [
      "['Start', '', '', 'Report Builder - Refreshing Report', 'Report Builder - Request Manager', 'Monthly Male Grooming Experience Platform Dashboard - Excel', 'Monthly Dashboard - MyPhilips - Excel', 'Monthly Male Grooming Experience Platform', 'Wrapper - Google Chrome', 'Reports - Google Chrome', 'Tickets > Manage - Google Chrome', 'Monthly Male Grooming Experience Platform Dashboard Documentation - Word', 'Ad Hoc Analysis - H&W Online Sales Data', 'Wrapper - Google Chrome', 'Sticky Notes', 'Skype for Business ', 'Anaconda Prompt - jupyter  notebook', 'Gupta, Ayush', '', '', 'Program Manager']\n",
      "['Start', '', '', 'Report Builder - Refreshing Report', 'Report Builder - Request Manager', 'Monthly Male Grooming Experience Platform Dashboard - Excel', 'Monthly Dashboard - MyPhilips - Excel', 'Monthly Male Grooming Experience Platform', 'Wrapper - Google Chrome', 'Reports - Google Chrome', 'Tickets > Manage - Google Chrome', 'Monthly Male Grooming Experience Platform Dashboard Documentation - Word', 'Ad Hoc Analysis - H&W Online Sales Data', 'Wrapper - Google Chrome', 'Sticky Notes', 'Skype for Business ', 'Anaconda Prompt - jupyter  notebook', 'Gupta, Ayush', '', '', 'Program Manager']\n",
      "['Start', '', '', 'Report Builder - Refreshing Report', 'Report Builder - Request Manager', 'Monthly Male Grooming Experience Platform Dashboard - Excel', 'Monthly Dashboard - MyPhilips - Excel', 'Monthly Male Grooming Experience Platform', 'Wrapper - Google Chrome', 'Reports - Google Chrome', 'Tickets > Manage - Google Chrome', 'Monthly Male Grooming Experience Platform Dashboard Documentation - Word', 'Ad Hoc Analysis - H&W Online Sales Data', 'Wrapper - Google Chrome', 'Sticky Notes', 'Skype for Business ', 'Anaconda Prompt - jupyter  notebook', 'Gupta, Ayush', '', '', 'Program Manager']\n",
      "['Start', '', '', 'Report Builder - Refreshing Report', 'Report Builder - Request Manager', 'Monthly Male Grooming Experience Platform Dashboard - Excel', 'Monthly Dashboard - MyPhilips - Excel', 'Monthly Male Grooming Experience Platform', 'Wrapper - Google Chrome', 'Reports - Google Chrome', 'Tickets > Manage - Google Chrome', 'Monthly Male Grooming Experience Platform Dashboard Documentation - Word', 'Ad Hoc Analysis - H&W Online Sales Data', 'Wrapper - Google Chrome', 'Sticky Notes', 'Skype for Business ', 'Anaconda Prompt - jupyter  notebook', 'Gupta, Ayush', '', '', 'Program Manager']\n",
      "['Start', '', '', 'Report Builder - Refreshing Report', 'Report Builder - Request Manager', 'Monthly Male Grooming Experience Platform Dashboard - Excel', 'Monthly Dashboard - MyPhilips - Excel', 'Monthly Male Grooming Experience Platform', 'Wrapper - Google Chrome', 'Reports - Google Chrome', 'Tickets > Manage - Google Chrome', 'Monthly Male Grooming Experience Platform Dashboard Documentation - Word', 'Ad Hoc Analysis - H&W Online Sales Data', 'Wrapper - Google Chrome', 'Sticky Notes', 'Skype for Business ', 'Anaconda Prompt - jupyter  notebook', 'Gupta, Ayush', '', '', 'Program Manager']\n",
      "['Start', '', '', 'Report Builder - Refreshing Report', 'Report Builder - Request Manager', 'Monthly Male Grooming Experience Platform Dashboard - Excel', 'Monthly Dashboard - MyPhilips - Excel', 'Monthly Male Grooming Experience Platform', 'Wrapper - Google Chrome', 'Reports - Google Chrome', 'Tickets > Manage - Google Chrome', 'Monthly Male Grooming Experience Platform Dashboard Documentation - Word', 'Ad Hoc Analysis - H&W Online Sales Data', 'Wrapper - Google Chrome', 'Sticky Notes', 'Skype for Business ', 'Anaconda Prompt - jupyter  notebook', 'Gupta, Ayush', '', '', 'Program Manager']\n",
      "['Start', '', '', 'Report Builder - Refreshing Report', 'Report Builder - Request Manager', 'Monthly Male Grooming Experience Platform Dashboard - Excel', 'Monthly Dashboard - MyPhilips - Excel', 'Monthly Male Grooming Experience Platform', 'Wrapper - Google Chrome', 'Reports - Google Chrome', 'Tickets > Manage - Google Chrome', 'Monthly Male Grooming Experience Platform Dashboard Documentation - Word', 'Ad Hoc Analysis - H&W Online Sales Data', 'Wrapper - Google Chrome', 'Sticky Notes', 'Skype for Business ', 'Anaconda Prompt - jupyter  notebook', 'Gupta, Ayush', '', '', 'Program Manager']\n",
      "['Start', '', '', 'Report Builder - Refreshing Report', 'Report Builder - Request Manager', 'Monthly Male Grooming Experience Platform Dashboard - Excel', 'Monthly Dashboard - MyPhilips - Excel', 'Monthly Male Grooming Experience Platform', 'Wrapper - Google Chrome', 'Reports - Google Chrome', 'Tickets > Manage - Google Chrome', 'Monthly Male Grooming Experience Platform Dashboard Documentation - Word', 'Ad Hoc Analysis - H&W Online Sales Data', 'Wrapper - Google Chrome', 'Sticky Notes', 'Skype for Business ', 'Anaconda Prompt - jupyter  notebook', 'Gupta, Ayush', '', '', 'Program Manager']\n",
      "['Start', '', '', 'Report Builder - Refreshing Report', 'Report Builder - Request Manager', 'Monthly Male Grooming Experience Platform Dashboard - Excel', 'Monthly Dashboard - MyPhilips - Excel', 'Monthly Male Grooming Experience Platform', 'Wrapper - Google Chrome', 'Reports - Google Chrome', 'Tickets > Manage - Google Chrome', 'Monthly Male Grooming Experience Platform Dashboard Documentation - Word', 'Ad Hoc Analysis - H&W Online Sales Data', 'Wrapper - Google Chrome', 'Sticky Notes', 'Skype for Business ', 'Anaconda Prompt - jupyter  notebook', 'Gupta, Ayush', '', '', 'Program Manager']\n",
      "['Start', '', '', 'Report Builder - Refreshing Report', 'Report Builder - Request Manager', 'Monthly Male Grooming Experience Platform Dashboard - Excel', 'Monthly Dashboard - MyPhilips - Excel', 'Monthly Male Grooming Experience Platform', 'Wrapper - Google Chrome', 'Reports - Google Chrome', 'Tickets > Manage - Google Chrome', 'Monthly Male Grooming Experience Platform Dashboard Documentation - Word', 'Ad Hoc Analysis - H&W Online Sales Data', 'Wrapper - Google Chrome', 'Sticky Notes', 'Skype for Business ', 'Anaconda Prompt - jupyter  notebook', 'Gupta, Ayush', '', '', 'Program Manager']\n",
      "['Start', '', '', 'Report Builder - Refreshing Report', 'Report Builder - Request Manager', 'Monthly Male Grooming Experience Platform Dashboard - Excel', 'Monthly Dashboard - MyPhilips - Excel', 'Monthly Male Grooming Experience Platform', 'Wrapper - Google Chrome', 'Reports - Google Chrome', 'Tickets > Manage - Google Chrome', 'Monthly Male Grooming Experience Platform Dashboard Documentation - Word', 'Ad Hoc Analysis - H&W Online Sales Data', 'Wrapper - Google Chrome', 'Sticky Notes', 'Skype for Business ', 'Anaconda Prompt - jupyter  notebook', 'Gupta, Ayush', '', '', 'Program Manager']\n",
      "['Start', '', '', 'Report Builder - Refreshing Report', 'Report Builder - Request Manager', 'Monthly Male Grooming Experience Platform Dashboard - Excel', 'Monthly Dashboard - MyPhilips - Excel', 'Monthly Male Grooming Experience Platform', 'Wrapper - Google Chrome', 'Reports - Google Chrome', 'Tickets > Manage - Google Chrome', 'Monthly Male Grooming Experience Platform Dashboard Documentation - Word', 'Ad Hoc Analysis - H&W Online Sales Data', 'Wrapper - Google Chrome', 'Sticky Notes', 'Skype for Business ', 'Anaconda Prompt - jupyter  notebook', 'Gupta, Ayush', '', '', 'Program Manager']\n",
      "['Start', '', '', 'Report Builder - Refreshing Report', 'Report Builder - Request Manager', 'Monthly Male Grooming Experience Platform Dashboard - Excel', 'Monthly Dashboard - MyPhilips - Excel', 'Monthly Male Grooming Experience Platform', 'Wrapper - Google Chrome', 'Reports - Google Chrome', 'Tickets > Manage - Google Chrome', 'Monthly Male Grooming Experience Platform Dashboard Documentation - Word', 'Ad Hoc Analysis - H&W Online Sales Data', 'Wrapper - Google Chrome', 'Sticky Notes', 'Skype for Business ', 'Anaconda Prompt - jupyter  notebook', 'Gupta, Ayush', '', '', 'Program Manager']\n",
      "['Start', '', '', 'Report Builder - Refreshing Report', 'Report Builder - Request Manager', 'Monthly Male Grooming Experience Platform Dashboard - Excel', 'Monthly Dashboard - MyPhilips - Excel', 'Monthly Male Grooming Experience Platform', 'Wrapper - Google Chrome', 'Reports - Google Chrome', 'Tickets > Manage - Google Chrome', 'Monthly Male Grooming Experience Platform Dashboard Documentation - Word', 'Ad Hoc Analysis - H&W Online Sales Data', 'Wrapper - Google Chrome', 'Sticky Notes', 'Skype for Business ', 'Anaconda Prompt - jupyter  notebook', 'Gupta, Ayush', '', '', 'Program Manager']\n"
     ]
    },
    {
     "name": "stdout",
     "output_type": "stream",
     "text": [
      "['Start', '', '', 'Report Builder - Refreshing Report', 'Report Builder - Request Manager', 'Monthly Male Grooming Experience Platform Dashboard - Excel', 'Monthly Dashboard - MyPhilips - Excel', 'Monthly Male Grooming Experience Platform', 'Wrapper - Google Chrome', 'Reports - Google Chrome', 'Tickets > Manage - Google Chrome', 'Monthly Male Grooming Experience Platform Dashboard Documentation - Word', 'Ad Hoc Analysis - H&W Online Sales Data', 'Wrapper - Google Chrome', 'Sticky Notes', 'Skype for Business ', 'Anaconda Prompt - jupyter  notebook', 'Gupta, Ayush', '', '', 'Program Manager']\n",
      "['Start', '', '', 'Report Builder - Refreshing Report', 'Report Builder - Request Manager', 'Monthly Male Grooming Experience Platform Dashboard - Excel', 'Monthly Dashboard - MyPhilips - Excel', 'Monthly Male Grooming Experience Platform', 'Wrapper - Google Chrome', 'Reports - Google Chrome', 'Tickets > Manage - Google Chrome', 'Monthly Male Grooming Experience Platform Dashboard Documentation - Word', 'Ad Hoc Analysis - H&W Online Sales Data', 'Wrapper - Google Chrome', 'Sticky Notes', 'Skype for Business ', 'Anaconda Prompt - jupyter  notebook', 'Gupta, Ayush', '', '', 'Program Manager']\n",
      "['Start', '', '', 'Report Builder - Refreshing Report', 'Report Builder - Request Manager', 'Monthly Male Grooming Experience Platform Dashboard - Excel', 'Monthly Dashboard - MyPhilips - Excel', 'Monthly Male Grooming Experience Platform', 'Wrapper - Google Chrome', 'Reports - Google Chrome', 'Tickets > Manage - Google Chrome', 'Monthly Male Grooming Experience Platform Dashboard Documentation - Word', 'Ad Hoc Analysis - H&W Online Sales Data', 'Wrapper - Google Chrome', 'Sticky Notes', 'Skype for Business ', 'Anaconda Prompt - jupyter  notebook', 'Gupta, Ayush', '', '', 'Program Manager']\n",
      "['Start', '', '', 'Report Builder - Refreshing Report', 'Report Builder - Request Manager', 'Monthly Male Grooming Experience Platform Dashboard - Excel', 'Monthly Dashboard - MyPhilips - Excel', 'Monthly Male Grooming Experience Platform', 'Wrapper - Google Chrome', 'Reports - Google Chrome', 'Tickets > Manage - Google Chrome', 'Monthly Male Grooming Experience Platform Dashboard Documentation - Word', 'Ad Hoc Analysis - H&W Online Sales Data', 'Wrapper - Google Chrome', 'Sticky Notes', 'Skype for Business ', 'Anaconda Prompt - jupyter  notebook', 'Gupta, Ayush', '', '', 'Program Manager']\n",
      "['Start', '', '', 'Report Builder - Refreshing Report', 'Report Builder - Request Manager', 'Monthly Male Grooming Experience Platform Dashboard - Excel', 'Monthly Dashboard - MyPhilips - Excel', 'Monthly Male Grooming Experience Platform', 'Wrapper - Google Chrome', 'Reports - Google Chrome', 'Tickets > Manage - Google Chrome', 'Monthly Male Grooming Experience Platform Dashboard Documentation - Word', 'Ad Hoc Analysis - H&W Online Sales Data', 'Wrapper - Google Chrome', 'Sticky Notes', 'Skype for Business ', 'Anaconda Prompt - jupyter  notebook', 'Gupta, Ayush', '', '', 'Program Manager']\n",
      "['Start', '', '', 'Report Builder - Refreshing Report', 'Report Builder - Request Manager', 'Monthly Male Grooming Experience Platform Dashboard - Excel', 'Monthly Dashboard - MyPhilips - Excel', 'Monthly Male Grooming Experience Platform', 'Wrapper - Google Chrome', 'Reports - Google Chrome', 'Tickets > Manage - Google Chrome', 'Monthly Male Grooming Experience Platform Dashboard Documentation - Word', 'Ad Hoc Analysis - H&W Online Sales Data', 'Wrapper - Google Chrome', 'Sticky Notes', 'Skype for Business ', 'Anaconda Prompt - jupyter  notebook', 'Gupta, Ayush', '', '', 'Program Manager']\n",
      "['Start', '', '', 'Report Builder - Refreshing Report', 'Report Builder - Request Manager', 'Monthly Male Grooming Experience Platform Dashboard - Excel', 'Monthly Dashboard - MyPhilips - Excel', 'Monthly Male Grooming Experience Platform', 'Wrapper - Google Chrome', 'Reports - Google Chrome', 'Tickets > Manage - Google Chrome', 'Monthly Male Grooming Experience Platform Dashboard Documentation - Word', 'Ad Hoc Analysis - H&W Online Sales Data', 'Wrapper - Google Chrome', 'Sticky Notes', 'Skype for Business ', 'Anaconda Prompt - jupyter  notebook', 'Gupta, Ayush', '', '', 'Program Manager']\n",
      "['Start', '', '', 'Report Builder - Refreshing Report', 'Report Builder - Request Manager', 'Monthly Male Grooming Experience Platform Dashboard - Excel', 'Monthly Dashboard - MyPhilips - Excel', 'Monthly Male Grooming Experience Platform', 'Wrapper - Google Chrome', 'Reports - Google Chrome', 'Tickets > Manage - Google Chrome', 'Monthly Male Grooming Experience Platform Dashboard Documentation - Word', 'Ad Hoc Analysis - H&W Online Sales Data', 'Wrapper - Google Chrome', 'Sticky Notes', 'Skype for Business ', 'Anaconda Prompt - jupyter  notebook', 'Gupta, Ayush', '', '', 'Program Manager']\n",
      "['Start', '', '', 'Report Builder - Refreshing Report', 'Report Builder - Request Manager', 'Monthly Male Grooming Experience Platform Dashboard - Excel', 'Monthly Dashboard - MyPhilips - Excel', 'Monthly Male Grooming Experience Platform', 'Wrapper - Google Chrome', 'Reports - Google Chrome', 'Tickets > Manage - Google Chrome', 'Monthly Male Grooming Experience Platform Dashboard Documentation - Word', 'Ad Hoc Analysis - H&W Online Sales Data', 'Wrapper - Google Chrome', 'Sticky Notes', 'Skype for Business ', 'Anaconda Prompt - jupyter  notebook', 'Gupta, Ayush', '', '', 'Program Manager']\n",
      "['Start', '', '', 'Report Builder - Refreshing Report', 'Report Builder - Request Manager', 'Monthly Male Grooming Experience Platform Dashboard - Excel', 'Monthly Dashboard - MyPhilips - Excel', 'Monthly Male Grooming Experience Platform', 'Wrapper - Google Chrome', 'Reports - Google Chrome', 'Tickets > Manage - Google Chrome', 'Monthly Male Grooming Experience Platform Dashboard Documentation - Word', 'Ad Hoc Analysis - H&W Online Sales Data', 'Wrapper - Google Chrome', 'Sticky Notes', 'Skype for Business ', 'Anaconda Prompt - jupyter  notebook', 'Gupta, Ayush', '', '', 'Program Manager']\n",
      "['Start', '', '', 'Report Builder - Refreshing Report', 'Report Builder - Request Manager', 'Monthly Male Grooming Experience Platform Dashboard - Excel', 'Monthly Dashboard - MyPhilips - Excel', 'Monthly Male Grooming Experience Platform', 'Wrapper - Google Chrome', 'Reports - Google Chrome', 'Tickets > Manage - Google Chrome', 'Monthly Male Grooming Experience Platform Dashboard Documentation - Word', 'Ad Hoc Analysis - H&W Online Sales Data', 'Wrapper - Google Chrome', 'Sticky Notes', 'Skype for Business ', 'Anaconda Prompt - jupyter  notebook', 'Gupta, Ayush', '', '', 'Program Manager']\n",
      "['Start', '', '', 'Report Builder - Refreshing Report', 'Report Builder - Request Manager', 'Monthly Male Grooming Experience Platform Dashboard - Excel', 'Monthly Dashboard - MyPhilips - Excel', 'Monthly Male Grooming Experience Platform', 'Wrapper - Google Chrome', 'Reports - Google Chrome', 'Tickets > Manage - Google Chrome', 'Monthly Male Grooming Experience Platform Dashboard Documentation - Word', 'Ad Hoc Analysis - H&W Online Sales Data', 'Wrapper - Google Chrome', 'Sticky Notes', 'Skype for Business ', 'Anaconda Prompt - jupyter  notebook', 'Gupta, Ayush', '', '', 'Program Manager']\n",
      "['Start', '', '', 'Report Builder - Refreshing Report', 'Report Builder - Request Manager', 'Monthly Male Grooming Experience Platform Dashboard - Excel', 'Monthly Dashboard - MyPhilips - Excel', 'Monthly Male Grooming Experience Platform', 'Wrapper - Google Chrome', 'Reports - Google Chrome', 'Tickets > Manage - Google Chrome', 'Monthly Male Grooming Experience Platform Dashboard Documentation - Word', 'Ad Hoc Analysis - H&W Online Sales Data', 'Wrapper - Google Chrome', 'Sticky Notes', 'Skype for Business ', 'Anaconda Prompt - jupyter  notebook', 'Gupta, Ayush', '', '', 'Program Manager']\n",
      "['Start', '', '', 'Report Builder - Refreshing Report', 'Report Builder - Request Manager', 'Monthly Male Grooming Experience Platform Dashboard - Excel', 'Monthly Dashboard - MyPhilips - Excel', 'Monthly Male Grooming Experience Platform', 'Wrapper - Google Chrome', 'Reports - Google Chrome', 'Tickets > Manage - Google Chrome', 'Monthly Male Grooming Experience Platform Dashboard Documentation - Word', 'Ad Hoc Analysis - H&W Online Sales Data', 'Wrapper - Google Chrome', 'Sticky Notes', 'Skype for Business ', 'Anaconda Prompt - jupyter  notebook', 'Gupta, Ayush', '', '', 'Program Manager']\n"
     ]
    },
    {
     "name": "stdout",
     "output_type": "stream",
     "text": [
      "['Start', '', '', 'Report Builder - Request Manager', 'Monthly Male Grooming Experience Platform Dashboard - Excel', 'Monthly Dashboard - MyPhilips - Excel', 'Monthly Male Grooming Experience Platform', 'Wrapper - Google Chrome', 'Reports - Google Chrome', 'Tickets > Manage - Google Chrome', 'Monthly Male Grooming Experience Platform Dashboard Documentation - Word', 'Ad Hoc Analysis - H&W Online Sales Data', 'Wrapper - Google Chrome', 'Sticky Notes', 'Skype for Business ', 'Anaconda Prompt - jupyter  notebook', 'Gupta, Ayush', '', '', 'Program Manager']\n"
     ]
    }
   ],
   "source": [
    "x.monthly_male_grooming()"
   ]
  },
  {
   "cell_type": "code",
   "execution_count": 53,
   "metadata": {},
   "outputs": [
    {
     "name": "stdout",
     "output_type": "stream",
     "text": [
      "['Start', '', '', 'Wrapper - Google Chrome', 'Report Builder - Request Manager', 'Monthly Dashboard MR. - Excel', '', '', '', '', 'Philips Consumer Country  December17 - Argentina - Excel', 'Monthly Dashboard MR', 'Message Box Functions — PyAutoGUI 1.0.0 documentation - Google Chrome', 'Skype for Business ', 'Mail - Abhiram.Chilukuri@fractalanalytics.com - Google Chrome', 'Anaconda Prompt - jupyter  notebook', '', '', '', '', '', 'Sticky Note', 'Sticky Notes', 'Python', 'Country Dashboard Documentation  -  Protected View - Word', 'Inbox - abhiram.chilukuri@philips.com - Outlook', 'Monthly Dashboard MR Documentation - Word', 'Monthly Dashboard MR', '', '', 'Program Manager']\n",
      "0\n"
     ]
    }
   ],
   "source": [
    "status=0\n",
    "while status==0:\n",
    "    time.sleep(2)\n",
    "    print(x.checkWindows())\n",
    "    print(status)\n",
    "    if 'Report Builder - Refreshing Report' not in x.checkWindows():\n",
    "        status=1"
   ]
  },
  {
   "cell_type": "code",
   "execution_count": 37,
   "metadata": {},
   "outputs": [
    {
     "data": {
      "text/plain": [
       "'OK'"
      ]
     },
     "execution_count": 37,
     "metadata": {},
     "output_type": "execute_result"
    }
   ],
   "source": [
    "pyautogui.alert(text='Done', title='', button='OK')"
   ]
  },
  {
   "cell_type": "code",
   "execution_count": 40,
   "metadata": {},
   "outputs": [
    {
     "data": {
      "text/plain": [
       "True"
      ]
     },
     "execution_count": 40,
     "metadata": {},
     "output_type": "execute_result"
    }
   ],
   "source": [
    "'Report Builder - Refreshing Report' not in x.openWindows"
   ]
  },
  {
   "cell_type": "code",
   "execution_count": 63,
   "metadata": {},
   "outputs": [
    {
     "name": "stdout",
     "output_type": "stream",
     "text": [
      "zero\n",
      "zero\n",
      "zero\n",
      "zero\n",
      "zero\n",
      "zero\n",
      "zero\n",
      "zero\n",
      "zero\n",
      "zero\n"
     ]
    }
   ],
   "source": [
    "status=0\n",
    "a=0\n",
    "while status==0:\n",
    "    pyautogui.typewrite([\"enter\"])\n",
    "    pyautogui.typewrite([\"a\"])\n",
    "    time.sleep(1)\n",
    "    print(\"zero\")\n",
    "    a+=1\n",
    "    if(a==10):\n",
    "        status=1"
   ]
  },
  {
   "cell_type": "code",
   "execution_count": null,
   "metadata": {
    "collapsed": true
   },
   "outputs": [],
   "source": []
  },
  {
   "cell_type": "code",
   "execution_count": null,
   "metadata": {
    "collapsed": true
   },
   "outputs": [],
   "source": [
    "a\n",
    "a\n",
    "a\n",
    "a\n",
    "a\n",
    "a\n",
    "a\n",
    "a\n",
    "a"
   ]
  },
  {
   "cell_type": "code",
   "execution_count": 80,
   "metadata": {
    "collapsed": true
   },
   "outputs": [],
   "source": [
    "time.sleep(4)\n",
    "pyautogui.hotkey(\"alt\",'f4')"
   ]
  },
  {
   "cell_type": "code",
   "execution_count": null,
   "metadata": {
    "collapsed": true
   },
   "outputs": [],
   "source": []
  },
  {
   "cell_type": "code",
   "execution_count": null,
   "metadata": {
    "collapsed": true
   },
   "outputs": [],
   "source": []
  },
  {
   "cell_type": "code",
   "execution_count": null,
   "metadata": {
    "collapsed": true
   },
   "outputs": [],
   "source": []
  },
  {
   "cell_type": "code",
   "execution_count": null,
   "metadata": {
    "collapsed": true
   },
   "outputs": [],
   "source": []
  },
  {
   "cell_type": "code",
   "execution_count": null,
   "metadata": {
    "collapsed": true
   },
   "outputs": [],
   "source": []
  },
  {
   "cell_type": "code",
   "execution_count": null,
   "metadata": {
    "collapsed": true
   },
   "outputs": [],
   "source": []
  },
  {
   "cell_type": "code",
   "execution_count": null,
   "metadata": {
    "collapsed": true
   },
   "outputs": [],
   "source": []
  },
  {
   "cell_type": "code",
   "execution_count": null,
   "metadata": {
    "collapsed": true
   },
   "outputs": [],
   "source": []
  },
  {
   "cell_type": "code",
   "execution_count": null,
   "metadata": {
    "collapsed": true
   },
   "outputs": [],
   "source": []
  }
 ],
 "metadata": {
  "kernelspec": {
   "display_name": "Python 3",
   "language": "python",
   "name": "python3"
  },
  "language_info": {
   "codemirror_mode": {
    "name": "ipython",
    "version": 3
   },
   "file_extension": ".py",
   "mimetype": "text/x-python",
   "name": "python",
   "nbconvert_exporter": "python",
   "pygments_lexer": "ipython3",
   "version": "3.6.3"
  }
 },
 "nbformat": 4,
 "nbformat_minor": 2
}
